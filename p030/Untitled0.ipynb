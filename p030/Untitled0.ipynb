{
 "metadata": {
  "name": "",
  "signature": "sha256:29ae23a03760f800c7ee899000ad9236047fcd42d753163b3aedaf8295c4e77f"
 },
 "nbformat": 3,
 "nbformat_minor": 0,
 "worksheets": [
  {
   "cells": [
    {
     "cell_type": "code",
     "collapsed": false,
     "input": [
      "from numba import jit, autojit\n",
      "from math import pow\n",
      "\n",
      "#@autojit\n",
      "def isSumOfPowers(num,power):\n",
      "    g = lambda x: int(pow(x,power))\n",
      "    if num == sum(map(g,[int(char) for char in str(num)])):\n",
      "        return True\n",
      "    else:\n",
      "        return False\n",
      "\n",
      "#@autojit\n",
      "def find_range():\n",
      "    i = 1\n",
      "    while len(str(i*pow(9,5))) >= i:\n",
      "        i+=1\n",
      "    return 10**(i-2)"
     ],
     "language": "python",
     "metadata": {},
     "outputs": [],
     "prompt_number": 4
    },
    {
     "cell_type": "code",
     "collapsed": false,
     "input": [
      "%timeit find_range()\n",
      "\n"
     ],
     "language": "python",
     "metadata": {},
     "outputs": [
      {
       "output_type": "stream",
       "stream": "stdout",
       "text": [
        "100000 loops, best of 3: 7.02 \u00b5s per loop\n"
       ]
      }
     ],
     "prompt_number": 5
    },
    {
     "cell_type": "code",
     "collapsed": false,
     "input": [
      "#@autojit\n",
      "def gen_primes(max_n):\n",
      "    #sundaram\n",
      "    numbers = range(3, max_n+1, 2)\n",
      "    half = (max_n)//2\n",
      "    initial = 4\n",
      "\n",
      "    for step in xrange(3, max_n+1, 2):\n",
      "        for i in xrange(initial, half, step):\n",
      "            numbers[i-1] = 0\n",
      "        initial += 2*(step+1)\n",
      "\n",
      "        if initial > half:\n",
      "            return [2] + filter(None, numbers)\n",
      "\n",
      "@autojit\n",
      "def consecutive_primes(n_max):\n",
      "    primes = gen_primes(n_max)\n",
      "    max_count = 1\n",
      "    for i in xrange(len(primes)):\n",
      "        count = 1\n",
      "        total = primes[i]    \n",
      "        for j in xrange(i+1,len(primes)):\n",
      "            total += primes[j]\n",
      "            count += 1\n",
      "            if total >= n_max:\n",
      "                break\n",
      "            elif total in primes:\n",
      "                if count > max_count:\n",
      "                    max_count = count\n",
      "                    result = total\n",
      "    return result"
     ],
     "language": "python",
     "metadata": {},
     "outputs": [
      {
       "ename": "NameError",
       "evalue": "name 'autojit' is not defined",
       "output_type": "pyerr",
       "traceback": [
        "\u001b[1;31m---------------------------------------------------------------------------\u001b[0m\n\u001b[1;31mNameError\u001b[0m                                 Traceback (most recent call last)",
        "\u001b[1;32m<ipython-input-1-51585c4d7b28>\u001b[0m in \u001b[0;36m<module>\u001b[1;34m()\u001b[0m\n\u001b[0;32m     14\u001b[0m             \u001b[1;32mreturn\u001b[0m \u001b[1;33m[\u001b[0m\u001b[1;36m2\u001b[0m\u001b[1;33m]\u001b[0m \u001b[1;33m+\u001b[0m \u001b[0mfilter\u001b[0m\u001b[1;33m(\u001b[0m\u001b[0mNone\u001b[0m\u001b[1;33m,\u001b[0m \u001b[0mnumbers\u001b[0m\u001b[1;33m)\u001b[0m\u001b[1;33m\u001b[0m\u001b[0m\n\u001b[0;32m     15\u001b[0m \u001b[1;33m\u001b[0m\u001b[0m\n\u001b[1;32m---> 16\u001b[1;33m \u001b[1;33m@\u001b[0m\u001b[0mautojit\u001b[0m\u001b[1;33m\u001b[0m\u001b[0m\n\u001b[0m\u001b[0;32m     17\u001b[0m \u001b[1;32mdef\u001b[0m \u001b[0mconsecutive_primes\u001b[0m\u001b[1;33m(\u001b[0m\u001b[0mn_max\u001b[0m\u001b[1;33m)\u001b[0m\u001b[1;33m:\u001b[0m\u001b[1;33m\u001b[0m\u001b[0m\n\u001b[0;32m     18\u001b[0m     \u001b[0mprimes\u001b[0m \u001b[1;33m=\u001b[0m \u001b[0mgen_primes\u001b[0m\u001b[1;33m(\u001b[0m\u001b[0mn_max\u001b[0m\u001b[1;33m)\u001b[0m\u001b[1;33m\u001b[0m\u001b[0m\n",
        "\u001b[1;31mNameError\u001b[0m: name 'autojit' is not defined"
       ]
      }
     ],
     "prompt_number": 1
    },
    {
     "cell_type": "code",
     "collapsed": false,
     "input": [
      "%timeit gen_primes(100000)"
     ],
     "language": "python",
     "metadata": {},
     "outputs": [
      {
       "output_type": "stream",
       "stream": "stdout",
       "text": [
        "100 loops, best of 3: 8.48 ms per loop\n"
       ]
      }
     ],
     "prompt_number": 21
    },
    {
     "cell_type": "code",
     "collapsed": false,
     "input": [],
     "language": "python",
     "metadata": {},
     "outputs": []
    }
   ],
   "metadata": {}
  }
 ]
}